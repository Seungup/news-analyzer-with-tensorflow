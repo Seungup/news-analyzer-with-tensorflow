{
 "cells": [
  {
   "cell_type": "code",
   "execution_count": 1,
   "metadata": {},
   "outputs": [
    {
     "name": "stdout",
     "output_type": "stream",
     "text": [
      "Papago Client : HuA_wT4ehgG82Bo3mWct\n",
      "Papago Secret : YJ8zMly9WN\n"
     ]
    }
   ],
   "source": [
    "import sys\n",
    "sys.path.append('Bin/')\n",
    "import Lib\n",
    "import re\n",
    "from urllib import parse\n",
    "from googletrans import Translator\n",
    "\n",
    "translator = Translator()\n",
    "libray = Lib.CppAssignment()\n",
    "news = libray.Newspaper()\n",
    "\n",
    "def k2u(text):\n",
    "    url = text.replace('/', '|')\n",
    "    print(url)\n",
    "    url = parse.urlparse(f'http://www.exeam.org?examParam1=value1&examParam2={text}') \n",
    "    query = parse.parse_qs(url.query)\n",
    "    data = parse.urlencode(query,  doseq=True)\n",
    "    encording = data.replace('examParam1=value1&examParam2=', '')\n",
    "    return encording\n",
    "\n",
    "def cleanText(readData):\n",
    " \n",
    "    #텍스트에 포함되어 있는 특수 문자 제거\n",
    " \n",
    "    text = re.sub(\"[-=+,#/\\?:^$.@*\\\"※~&%ㆍ!』\\\\‘|\\(\\)\\[\\]\\<\\>`\\'…》]\", '', readData)\n",
    " \n",
    "    return text"
   ]
  },
  {
   "cell_type": "code",
   "execution_count": 2,
   "metadata": {},
   "outputs": [
    {
     "name": "stdout",
     "output_type": "stream",
     "text": [
      " * Serving Flask app \"__main__\" (lazy loading)\n",
      " * Environment: production\n",
      "   WARNING: This is a development server. Do not use it in a production deployment.\n",
      "   Use a production WSGI server instead.\n",
      " * Debug mode: off\n"
     ]
    },
    {
     "name": "stderr",
     "output_type": "stream",
     "text": [
      " * Running on http://127.0.0.1:5000/ (Press CTRL+C to quit)\n",
      "127.0.0.1 - - [23/Dec/2019 20:38:22] \"\u001b[37mGET / HTTP/1.1\u001b[0m\" 200 -\n"
     ]
    },
    {
     "name": "stdout",
     "output_type": "stream",
     "text": [
      "URL : https://news.v.daum.net/v/20191223201502676\n",
      "SUMM : \"국회법 결과 무제한 토론 적합하지 않아\" [서울=뉴시스]김명원 기자 = 문희상 국회의장.\n",
      "SOURCE : ko\n",
      "in else\n",
      "\"국회법 결과 무제한 토론 적합하지 않아\" [서울=뉴시스]김명원 기자 = 문희상 국회의장.문 의장은 23일 오후 7시57분께 개의된 본회의에서 \"국회 임시회 회기 결정의 건을 상정한다\"며 \"이 안건에 대해 심재철 의원 등 108인으로부터 무제한 토론 요구가 제출되었지만 국회법 결과 회기 결정의 건은 무제한 토론이 적합하지 않다는 결론에 이르렀다\"고 밝혔다.\n",
      "['\" 국회 법 결과 무제한 토론 적합하지 않아\" [ 서울= 뉴 시스] 김명원 기자 = 문 희상 국회의장. 문 의장은 23일 오후 7시 57분께 개의된 본회의에서 \" 국회 임시회 회기 결정의 건을 상정한다 \"며 \" 이 안건에 대해 심재 철 의원 등 108 인으로부터 무제한 토론 요구가 제출되었지만 국회법 결과 회기 결정의 건은 무제한 토론이 적합하지 않다는 결론에 이 르 렀 다\" 고 밝혔다.']\n",
      "go for\n",
      "False\n"
     ]
    },
    {
     "name": "stderr",
     "output_type": "stream",
     "text": [
      "127.0.0.1 - - [23/Dec/2019 20:38:45] \"\u001b[37mGET /input/https%3A%7C%7Cnews.v.daum.net%7Cv%7C20191223201502676 HTTP/1.1\u001b[0m\" 200 -\n"
     ]
    },
    {
     "name": "stdout",
     "output_type": "stream",
     "text": [
      "\n",
      "총 점수 :  -100\n",
      "-100.0 \" 국회 법 결과 무제한 토론 적합하지 않아\" [ 서울= 뉴 시스] 김명원 기자 = 문 희상 국회의장. 문 의장은 23일 오후 7시 57분께 개의된 본회의에서 \" 국회 임시회 회기 결정의 건을 상정한다 \"며 \" 이 안건에 대해 심재 철 의원 등 108 인으로부터 무제한 토론 요구가 제출되었지만 국회법 결과 회기 결정의 건은 무제한 토론이 적합하지 않다는 결론에 이 르 렀 다\" 고 밝혔다.\n",
      "URL : https://news.v.daum.net/v/20191223201756721\n",
      "SUMM : 심재철 원내대표 등 일부 의원들은 오후 6시50분께 국회의장실로 이동해 면담을 요청하며 본\n",
      "SOURCE : ko\n",
      "in else\n",
      "심재철 원내대표 등 일부 의원들은 오후 6시50분께 국회의장실로 이동해 면담을 요청하며 본회의 개의 시도에 강력 항의했다.[서울=뉴시스] 고승민 기자 = 자유한국당 심재철 원내대표와 이주영 국회부의장 등 의원들이 23일 서울 여의도 국회에서 예산부수법안과 공수처법, 유아교육법 개정안 등을 안건으로 제372회국회(임시회) 제1차 본회의가 열리기 전 문희상 의장실을 찾아 면담을 요구하고 있다.[서울=뉴시스] 고승민 기자 = 자유한국당 심재철 원내대표와 이주영 국회부의장 등 의원들이 23일 서울 여의도 국회에서 예산부수법안과 공수처법, 유아교육법 개정안 등을 안건으로 제372회국회(임시회) 제1차 본회의가 열리기 전 문희상 의장실을 찾아 면담을 요구하고 있다.이들은 한시간 넘게 의장실 앞에 서서 문을 두드리며 의장과의 면담을 요청했으나 결국 오후 7시56분께 문 의장이 뒷문으로 빠져나가 본회의장으로 들어가면서 면담은 무산됐다.\n",
      "['심재 철 원내 대표 등 일부 의원들은 오후 6시 50분께 국회의 장실로 이동해 면담을 요청하며 본회의 개의 시도에 강력 항의했다.', '[ 서울= 뉴 시스] 고승 민 기자 = 자유 한국당 심재 철 원내 대표와 이주 영 국회 부의장 등 의원들이 23일 서울 여의도 국회에서 예산 부수 법안과 공수 처 법, 유아 교육법 개정안 등을 안건으로 제 372회 국회( 임시회) 제 1차 본회의가 열리기 전 문희 상 의장 실을 찾아 면담을 요구하고 있다.', '[ 서울= 뉴 시스] 고승 민 기자 = 자유 한국당 심재 철 원내 대표와 이주 영 국회 부의장 등 의원들이 23일 서울 여의도 국회에서 예산 부수 법안과 공수 처 법, 유아 교육법 개정안 등을 안건으로 제 372회 국회( 임시회) 제 1차 본회의가 열리기 전 문희 상 의장 실을 찾아 면담을 요구하고 있다.', '이 들은 한시간 넘게 의장 실 앞에 서서 문을 두드리며 의장과의 면담을 요청했으나 결국 오후 7시 56분께 문 의장이 뒷문으로 빠져 나가 본회의장으로 들어가면서 면담은 무산됐다.']\n",
      "go for\n",
      "False\n",
      "False\n"
     ]
    },
    {
     "name": "stderr",
     "output_type": "stream",
     "text": [
      "127.0.0.1 - - [23/Dec/2019 20:38:50] \"\u001b[37mGET /input/https%3A%7C%7Cnews.v.daum.net%7Cv%7C20191223201756721 HTTP/1.1\u001b[0m\" 200 -\n"
     ]
    },
    {
     "name": "stdout",
     "output_type": "stream",
     "text": [
      "False\n",
      "False\n",
      "\n",
      "총 점수 :  -399\n",
      "-99.99986968227859 심재 철 원내 대표 등 일부 의원들은 오후 6시 50분께 국회의 장실로 이동해 면담을 요청하며 본회의 개의 시도에 강력 항의했다.\n",
      "-100.0 [ 서울= 뉴 시스] 고승 민 기자 = 자유 한국당 심재 철 원내 대표와 이주 영 국회 부의장 등 의원들이 23일 서울 여의도 국회에서 예산 부수 법안과 공수 처 법, 유아 교육법 개정안 등을 안건으로 제 372회 국회( 임시회) 제 1차 본회의가 열리기 전 문희 상 의장 실을 찾아 면담을 요구하고 있다.\n",
      "-100.0 [ 서울= 뉴 시스] 고승 민 기자 = 자유 한국당 심재 철 원내 대표와 이주 영 국회 부의장 등 의원들이 23일 서울 여의도 국회에서 예산 부수 법안과 공수 처 법, 유아 교육법 개정안 등을 안건으로 제 372회 국회( 임시회) 제 1차 본회의가 열리기 전 문희 상 의장 실을 찾아 면담을 요구하고 있다.\n",
      "-100.0 이 들은 한시간 넘게 의장 실 앞에 서서 문을 두드리며 의장과의 면담을 요청했으나 결국 오후 7시 56분께 문 의장이 뒷문으로 빠져 나가 본회의장으로 들어가면서 면담은 무산됐다.\n",
      "URL : https://www.bbc.com/news/world-us-canada-50888357\n",
      "SUMM : Image copyright YORK-POQUOSON SHERIFF'S OFFICE/AFP\n",
      "SOURCE : de\n",
      "[use google translator]\n"
     ]
    },
    {
     "name": "stderr",
     "output_type": "stream",
     "text": [
      "127.0.0.1 - - [23/Dec/2019 20:39:19] \"\u001b[37mGET /input/https%3A%7C%7Cwww.bbc.com%7Cnews%7Cworld-us-canada-50888357 HTTP/1.1\u001b[0m\" 200 -\n"
     ]
    },
    {
     "name": "stdout",
     "output_type": "stream",
     "text": [
      "ori : Image copyright YORK-POQUOSON SHERIFF'S OFFICE/AFP Image caption Rescue teams clambered over vehicles to free those trapped in the crashImage copyright Reuters Image caption Crumpled cars covered a long stretch of the I-64 in York County, Virginia\n",
      "tra : 이미지 저작권 YORK - POQUOSON 보안관 사무실은 / AFP 이미지 캡션 구조 팀은 crashImage 저작권 로이터 이미지 캡션 구겨진 자동차에 갇힌 사람들을 무료로 차량을 통해 기어 올랐다 뉴욕 카운티, 버지니아에있는 I-64의 먼 장래를 커버\n",
      "\n",
      "총 점수 :  50.0\n",
      "100.0 이미지 저작권 YORK - POQUOSON 보안관 사무실은 / AFP 이미지 캡션 구조 팀은 crashImage 저작권 로이터 이미지 캡션 구겨진 자동차에 갇힌 사람들을 무료로 차량을 통해 기어 올랐다 뉴욕 카운티, 버지니아에 있는 I-64의 먼 장래를 커버\n",
      "URL : https://www.bbc.com/news/stories-50816678\n",
      "SUMM : The numbers are now so huge, and the damage so gre\n",
      "SOURCE : en\n",
      "[use google translator]\n",
      "ori : The numbers are now so huge, and the damage so great, that permission has been granted for the wild birds to be shot - and eaten, reports the BBC's Emma Jane Kirby.In most situations it would be deemed unwise to tramp across a farmer's fields in the wee small hours dressed in camouflage gear while carrying weapons, but Steve Rogers marches confidently across the frozen grass of Stromness, Orkney, frosted blades snapping and icy puddles splintering under his combat boots, as we approach a saltwater loch where we can hear the faint honking of resident geese.\"The damage they do in a short space of time is unbelievable,\" says Steve, who runs Orkney Shooting Holidays, as he prepares to call the geese with his whistle in the first light of dawn.Islanders have been allowed to control a set number of the birds since 2012, but the economic and environmental impact of goose grazing is now so serious for crofters that Scottish Natural Heritage (SNH), the body charged with protecting Scotland's wildlife, gave its backing to a larger cull this summer, even recruiting volunteer shooters.The guns crack out a flurry of shots and Steve releases his Labrador, Jack, who races out to retrieve the fallen birds, darting in and out of the plastic decoys, searching for the casualties.Image caption The geese are a major problem for farmers like Alister DonaldsonGraham Neville, Scottish Natural Heritage's Northern Isles and North Highland area manager, says SNH's policy towards the geese is about finding sustainable solutions while still fulfilling its nature conservation obligations.In Steve's hide, where the temperature has spiked upwards to a spiteful -3C, the shooters pass round a flask of scalding, sweet coffee as they wait for the next skein of geese to lift off the lake and fly towards the decoys in the field.\"Here comes my burger,\" laughs Rob, one of the shooters, as Steve sounds his whistle.\"We're looking at whether we can increase the market for goose meat,\" says SNH's Graham Neville.\"It's the novelty factor,\" he tells me as he sharpens his knife to prepare a bird for a client who wants an \"oven-ready\" goose.\"We sell a lot of goose burgers and sausages because folk like fast food, but we can sell the meat on now to bars and restaurants across mainland Scotland, even to Glasgow and Edinburgh, and that's great.\"At the hide, where the geese, alerted to the danger, are making themselves scarce, Steve calls time on the shoot and drives his clients back to the hotel to defrost.He's still driving around the island, looking for good goose-heavy spots to take his clients for their afternoon shoot.\n",
      "tra : 숫자는 지금 너무 거대하고, 피해 그리 좋은, 그 권한 샷으로 야생 조류 부여 된 - 먹을, BBC의 엠마 제인 Kirby.In 대부분의 상황을보고는 농부의 분야에 걸쳐 부정 기선으로 현명하지 못한 것으로 간주 될 것이다 위장 기어를 입고 꼬마 작은 시간에 무기를 운반하는 동안,하지만 우리가들을 수있는 우리가 바닷물 호수에 접근 스티브 로저스 행진 자신있게 스트롬 니스, 오크 니의 냉동 된 잔디를 가로 질러, 그의 전투 부츠에서 스냅 블레이드 및 얼음 웅덩이 분열 젖 빛 주민 거위의 경적을 울리고 기절. \"그들은 짧은 시간에 할 손상하는 것은 믿을 수 없다\"고 dawn.Islanders의 첫 번째 빛에 있었던 자신의 휘파람 기러기를 호출 할 준비를 오크 니가, 휴일 슈팅 실행 스티브는 말한다 2012 년부터 조류의 세트 수를 제어 할 수 있지만, 거위 방목의 경제 및 환경에 미치는 영향은 스코틀랜드의 자연 유산 (SNH)이, 몸이 스코틀랜드의 Wi 보호로 기소 것을 crofters 지금 너무 심각 ldlife, 심지어 자원 봉사 shooters.The 총은 샷의 한바탕 소동을 균열 스티브 플라스틱 미끼의에서 밖으로 돌진하고, 타락 새를 검색하기 위해 자신의 래브라도, 잭, 인종 아웃 출시 모집, 이번 여름에 더 큰 도태에의지지를 준 의 casualties.Image 캡션 검색 기러기는 알리 스터 DonaldsonGraham 네빌, 스코틀랜드의 자연 유산의 북부 섬과 북쪽 고원 지역 관리자와 같은 농부들에게 중요한 문제이며, 여전히 자연 보호의 의무를 이행하면서 거위 대한 SNH의 정책이 지속 가능한 솔루션을 찾는 것에 대해 말한다 그들은 호수에 떠 거위의 다음 타래를 기다리고 분야에서 미끼를 향해 비행으로 온도가 짓궂은 -3C 위쪽으로 급증했다 .IN 스티브의 숨기기, 저격수는 끓는 달콤한 커피의 술병 라운드 통과 스티브는 자신의 휘파람 소리. 롭의 슈팅 게임 중 하나가 웃음, \"여기, 내 햄버거 온다.\" \"우리는 우리가 거위 고기 시장을 증가시킬 수 있는지 여부를보고있다\"SNH의 그레이엄 Nevil 말한다 그의 칼은 \"오븐 준비\"거위를 원하는 클라이언트에 대한 새를 준비하는 선명 르가. \"그것은 참신 요인,\"그는 나에게 말한다. \"우리는 때문에 민속 패스트 푸드와 같은 거위 햄버거와 소시지를 많이 판매 하지만 우리는 심지어 글래스고와 에든버러, 바, 본토 스코틀랜드에서 레스토랑 지금에 고기를 판매 할 수 있으며, 그 좋아요. \"기러기는, 위험을 경고 숨기기,에서, 자신이 부족하고 있습니다, 스티브는 시간을 호출 촬영 및 드라이브 그의 고객은 오후 촬영을 위해 그의 고객을 위해 좋은 거위 무거운 지점을 찾고, defrost.He 아직 주위에 운전 섬에 호텔에 백업 할 수 있습니다.\n"
     ]
    },
    {
     "name": "stderr",
     "output_type": "stream",
     "text": [
      "127.0.0.1 - - [23/Dec/2019 20:39:36] \"\u001b[37mGET /input/https%3A%7C%7Cwww.bbc.com%7Cnews%7Cstories-50816678 HTTP/1.1\u001b[0m\" 200 -\n"
     ]
    },
    {
     "name": "stdout",
     "output_type": "stream",
     "text": [
      "\n",
      "총 점수 :  85.3\n",
      "100.0 숫자는 지금 너무 거대하고, 피해 그리 좋은, 그 권한 샷으로 야생 조류 부여 된 - 먹을, BBC 의 엠 마 제인 Kirby.In 대부분의 상황을 보고는 농부의 분야에 걸쳐 부정 기선으로 현명하지 못한 것으로 간주 될 것이다 위장 기어를 입고 꼬마 작은 시간에 무기를 운반하는 동안, 하지만 우리가 들을 수 있는 우리가 바닷물 호수에 접근 스티브 로저스 행진 자신 있게 스트 롬 니스, 오크 니의 냉동 된 잔디를 가로 질러, 그의 전투 부츠에서 스냅 블레이드 및 얼음 웅덩이 분열 젖 빛 주민 거위의 경적을 울리고 기절. \" 그들은 짧은 시간에 할 손상하는 것은 믿을 수 없다\" 고 dawn.Islanders 의 첫 번째 빛에 있었던 자신의 휘파람 기러기를 호출 할 준비를 오크 니가, 휴일 슈팅 실행 스티브는 말한다 2012 년부터 조류의 세트 수를 제어 할 수 있지만, 거위 방목의 경제 및 환경에 미치는 영향은 스코 틀 랜드의 자연 유산 (SNH) 이, 몸이 스코 틀 랜드의 Wi 보호로 기소 것을 crofters 지금 너무 심각 ldlife, 심지어 자원 봉사 shooters.The 총은 샷의 한바탕 소동을 균열 스티브 플라스틱 미끼의 에서 밖으로 돌진하고, 타락 새를 검색하기 위해 자신의 래브라도, 잭, 인종 아웃 출시 모집, 이번 여름에 더 큰 도태에의 지지를 준 의 casualties.Image 캡션 검색 기러기는 알 리 스터 DonaldsonGraham 네 빌, 스코 틀 랜드의 자연 유산의 북부 섬과 북쪽 고원 지역 관리자와 같은 농부들에게 중요한 문제이며, 여전히 자연 보호의 의무를 이행하면서 거위 대한 SNH의 정책이 지속 가능한 솔루션을 찾는 것에 대해 말한다 그들은 호수에 떠 거위의 다음 타래를 기다리고 분야에서 미끼를 향해 비행으로 온도가 짓궂은 -3C 위쪽으로 급증했다 .IN\n",
      "100.0 스티브의 숨기기, 저격수는 끓는 달콤한 커피의 술병 라운드 통과 스티브는 자신의 휘파람 소리. 롭의 슈팅 게임 중 하나가 웃음, \" 여기, 내 햄버거 온다.\n",
      "100.0 \" \" 우리는 우리가 거위 고기 시장을 증가시킬 수 있는지 여부를 보고 있다 \"SNH 의 그레이 엄 Nevil 말한다 그의 칼은 \" 오 븐 준비\" 거위를 원하는 클라이언트에 대한 새를 준비하는 선명 르가. \" 그것은 참신 요인,\" 그는 나에게 말한다.\n",
      "100.0 \" 우리는 때문에 민속 패스트 푸드와 같은 거위 햄버거와 소시지를 많이 판매 하지만 우리는 심지어 글래스 고와 에 든 버러, 바, 본토 스코 틀 랜드에서 레스토랑 지금에 고기를 판매 할 수 있으며, 그 좋아요.\n",
      "97.26157784461975 \" 기러기는, 위험을 경고 숨기기 ,에서, 자신이 부족하고 있습니다,\n",
      "100.0 스티브는 시간을 호출 촬영 및 드라 이브 그의 고객은 오후 촬영을 위해 그의 고객을 위해 좋은 거위 무거운 지점을 찾고, defrost.He 아직 주위에 운전 섬에 호텔에 백업 할 수 있습니다.\n",
      "URL : http://news.cctv.com/2019/12/23/ARTIOMIfXBfRsEyRSLqykKqG191223.shtml?spm=C96370.PsikHJQ1ICOX.Em32AuyOHUeL.1\n"
     ]
    },
    {
     "name": "stderr",
     "output_type": "stream",
     "text": [
      "Building prefix dict from e:\\anaconda\\envs\\nasa\\lib\\site-packages\\jieba\\dict.txt ...\n",
      "Dumping model to file cache C:\\Users\\Seungup\\AppData\\Local\\Temp\\jieba.cache\n",
      "Loading model cost 1.309166431427002 seconds.\n",
      "Prefix dict has been built succesfully.\n"
     ]
    },
    {
     "name": "stdout",
     "output_type": "stream",
     "text": [
      "SUMM : 习近平强调，双方要以实现高质量融合发展为目标，进一步挖掘潜力，提升务实合作层次和水平。双方可以推动共\n",
      "SOURCE : zh-CN\n",
      "[use google translator]\n",
      "ori : 习近平强调，双方要以实现高质量融合发展为目标，进一步挖掘潜力，提升务实合作层次和水平。双方可以推动共建“一带一路”倡议同韩方发展战略规划对接进一步早见实效、早结硕果，加快双边自由贸易协定第二阶段谈判，深化创新研发合作，更好实现优势互补和成果共享。要用好中韩人文交流促进委员会平台，开展好教育、体育、媒体、青少年、地方等领域交流，不断增进两国人民相互了解和友好感情。应该加强执法安全合作，共同打击跨境犯罪，维护两国社会安定和谐。\n",
      "tra : 시진핑는 목표로 개발 고품질의 통합을 달성하기 위해 양측이 더 협력과 실용적인 수준의 수준을 향상시킬 수있는 잠재력을 탐구하는 것을 강조했다. 양측은 홍보와 전략 기획 하야미 효과적인 조기 곰 과일의 발전에 한국에 주도권 도킹 \"길을 따라\"빌드, 혁신적인 R & D 협력, 상호 보완적인 장점과 결과를 더 잘 공유의 개발을 양자 간 자유 무역 협정 (FTA) 협상의 두 번째 단계를 가속화 할 수 있습니다. 교환 Hanren 원 총리는 의회에서보다 효율적으로 사용하기 위해 프로모션 플랫폼은 좋은 교육, 스포츠, 미디어, 청소년, 등의 교류 등 지역의 영역을 수행하고, 지속적으로 양국 국민 감정 사이의 상호 이해와 우정을 강화하기 위해. 법 집행 및 안보 협력과 공동으로 전투 국경 범죄를 강화해야, 두 나라의 사회 안정과 조화를 유지합니다.\n"
     ]
    },
    {
     "name": "stderr",
     "output_type": "stream",
     "text": [
      "127.0.0.1 - - [23/Dec/2019 20:40:26] \"\u001b[37mGET /input/http%3A%7C%7Cnews.cctv.com%7C2019%7C12%7C23%7CARTIOMIfXBfRsEyRSLqykKqG191223.shtml%3Fspm%3DC96370.PsikHJQ1ICOX.Em32AuyOHUeL.1 HTTP/1.1\u001b[0m\" 200 -\n"
     ]
    },
    {
     "name": "stdout",
     "output_type": "stream",
     "text": [
      "\n",
      "총 점수 :  -25.0\n",
      "-100.0 시진 핑 는 목표로 개발 고품질의 통합을 달성하기 위해 양측이 더 협력과 실용적인 수준의 수준을 향상시킬 수 있는 잠재력을 탐구하는 것을 강조했다.\n",
      "-100.0 양측은 홍보와 전략 기획 하야 미 효과 적인 조기 곰 과일의 발전에 한국에 주도권 도킹 \" 길을 따라\" 빌드, 혁신적인 R & D 협력, 상호 보완적인 장점과 결과를 더 잘 공유의 개발을 양자 간 자유 무역 협정 (FTA) 협상의 두 번째 단계를 가속화 할 수 있습니다.\n",
      "100.0 교환 Hanren 원 총리는 의회에서 보다 효율적으로 사용하기 위해 프로 모션 플랫폼은 좋은 교육, 스포츠, 미디어, 청소년, 등의 교류 등 지역의 영역을 수행하고, 지속적으로 양국 국민 감정 사이의 상호 이해와 우정을 강화하기 위해. 법 집행 및 안보 협력과 공동으로 전투 국경 범죄를 강화해야, 두 나라의 사회 안정과 조화를 유지합니다.\n"
     ]
    }
   ],
   "source": [
    "from flask import Flask\n",
    "import re\n",
    "\n",
    "app = Flask(__name__)\n",
    "\n",
    "\n",
    "@app.route('/')\n",
    "def hello_world():\n",
    "    return 'Hello, World!'\n",
    "\n",
    "\n",
    "@app.route('/input/<data>')  # URL뒤에 <>을 이용해 가변 경로를 적는다\n",
    "def hello_user(data):\n",
    "    data = data.replace('%3A', ':')\n",
    "    #data = data.replace('%3F', '?')\n",
    "    url = data.replace('|', '/')\n",
    "    print(\"URL :\", url)\n",
    "    try:\n",
    "        data = news.Newspaper(url=url, language=\"ko\")\n",
    "        if len(data) == 0:\n",
    "            data = news.Newspaper(url=url, language=\"en\")\n",
    "            if len(data) == 0:\n",
    "                data = news.Newspaper(url=url, language=\"ja\")\n",
    "                if len(data) == 0:\n",
    "                    data = news.Newspaper(url=url, language=\"zh\")\n",
    "                    print(\"SUMM :\",data[0:50])\n",
    "                    getSource = data[0:50]\n",
    "                    source = libray.Papago(text=getSource).GetLangage()\n",
    "                    print(\"SOURCE :\", source)\n",
    "                else:\n",
    "                    print(\"SUMM :\",data[0:50])\n",
    "                    getSource = data[0:50]\n",
    "                    source = libray.Papago(text=getSource).GetLangage()\n",
    "                    print(\"SOURCE :\", source)\n",
    "            else:\n",
    "                print(\"SUMM :\",data[0:50])\n",
    "                getSource = data[0:50]\n",
    "                source = libray.Papago(text=getSource).GetLangage()\n",
    "                print(\"SOURCE :\", source)\n",
    "        else:\n",
    "            print(\"SUMM :\",data[0:50])\n",
    "            getSource = data[0:50]\n",
    "            source = libray.Papago(text=getSource).GetLangage()\n",
    "            print(\"SOURCE :\", source)\n",
    "    except:\n",
    "        return f\"[ERROR] CANT SUMMARY PLEASE CHECK THIS PAGE : {url}\"\n",
    "    \n",
    "    \n",
    "    try:\n",
    "        if source != 'ko':\n",
    "            print(\"[use google translator]\")\n",
    "            text = translator.translate(data, dest='ko').text\n",
    "            print(\"ori :\", data)\n",
    "            print(\"tra :\", text)\n",
    "            sentence_data = libray.KoNLPy(text).sentence()\n",
    "            data_pn_score = []\n",
    "            obj = [0]\n",
    "            for i in range(len(sentence_data)):\n",
    "                if len(sentence_data[i]) < 21:\n",
    "                    score = 0\n",
    "                    tf = 0\n",
    "                else:\n",
    "                    _, score, tf = libray.model().text(sentence_data[i])\n",
    "                    data_pn_score.append(libray.model().text(sentence_data[i])[1:])\n",
    "                    #tf == 1 부정\n",
    "\n",
    "                if tf == 1:\n",
    "                    obj.append(-score)\n",
    "                else:\n",
    "                    obj.append(score)\n",
    "\n",
    "            print(\"\\n총 점수 : \",round(int(sum(obj)) / len(obj), 1))\n",
    "\n",
    "            for i in range(len(sentence_data)):\n",
    "                print(obj[i+1], sentence_data[i])\n",
    "\n",
    "            if int(sum(obj)) < 0:\n",
    "                tf = \"Negative\"\n",
    "            elif(int(sum(obj)) == 0):\n",
    "                tf = \"neutral\"\n",
    "            else:\n",
    "                tf = \"Positive\"\n",
    "\n",
    "\n",
    "            a = f\"\"\"[{str(tf)} : {str(round(int(sum(obj)) / len(obj), 1))}] ************** {str(text)}\"\"\"\n",
    "            return a\n",
    "\n",
    "        else:\n",
    "            print(\"in else\")\n",
    "            print(data)\n",
    "            sentence_data = libray.KoNLPy(data).sentence()\n",
    "            data_pn_score = []\n",
    "            obj = [0]\n",
    "            print(sentence_data)\n",
    "            print(\"go for\")\n",
    "            for i in range(len(sentence_data)):\n",
    "                print(len(sentence_data[i]) < 21)\n",
    "                if len(sentence_data[i]) < 21:\n",
    "                    score = 0\n",
    "                    tf = 0\n",
    "                else:\n",
    "                    _, score, tf = libray.model().text(sentence_data[i])\n",
    "                    \n",
    "                    data_pn_score.append(libray.model().text(sentence_data[i])[1:])\n",
    "                    #tf == 1 부정\n",
    "                if tf == 1:\n",
    "                    obj.append(-score)\n",
    "                else:\n",
    "                    obj.append(score)\n",
    "            print(\"\\n총 점수 : \",int(sum(obj)))\n",
    "\n",
    "            for i in range(len(sentence_data)):\n",
    "                print(obj[i+1], sentence_data[i])\n",
    "\n",
    "\n",
    "            if int(sum(obj)) < 0:\n",
    "                tf = \"Negative\"\n",
    "            elif(int(sum(obj)) == 0):\n",
    "                tf = \"neutral\"\n",
    "            else:\n",
    "                tf = \"Positive\"\n",
    "\n",
    "\n",
    "            a = f\"\"\"[{str(tf)} : {str(round(int(sum(obj)) / len(obj), 1))}] ************** {str(data)}\"\"\"\n",
    "            return a\n",
    "    except:\n",
    "        return data\n",
    "    \n",
    "if __name__ == \"__main__\":\n",
    "    app.run()\n"
   ]
  },
  {
   "cell_type": "code",
   "execution_count": null,
   "metadata": {},
   "outputs": [],
   "source": []
  }
 ],
 "metadata": {
  "kernelspec": {
   "display_name": "Python 3",
   "language": "python",
   "name": "python3"
  },
  "language_info": {
   "codemirror_mode": {
    "name": "ipython",
    "version": 3
   },
   "file_extension": ".py",
   "mimetype": "text/x-python",
   "name": "python",
   "nbconvert_exporter": "python",
   "pygments_lexer": "ipython3",
   "version": "3.7.5"
  }
 },
 "nbformat": 4,
 "nbformat_minor": 2
}

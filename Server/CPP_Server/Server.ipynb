{
 "cells": [
  {
   "cell_type": "code",
   "execution_count": 1,
   "metadata": {},
   "outputs": [
    {
     "name": "stderr",
     "output_type": "stream",
     "text": [
      "D:\\anaconda\\envs\\obj\\lib\\site-packages\\jpype\\_core.py:210: UserWarning: \n",
      "-------------------------------------------------------------------------------\n",
      "Deprecated: convertStrings was not specified when starting the JVM. The default\n",
      "behavior in JPype will be False starting in JPype 0.8. The recommended setting\n",
      "for new code is convertStrings=False.  The legacy value of True was assumed for\n",
      "this session. If you are a user of an application that reported this warning,\n",
      "please file a ticket with the developer.\n",
      "-------------------------------------------------------------------------------\n",
      "\n",
      "  \"\"\")\n"
     ]
    }
   ],
   "source": [
    "from socket import *\n",
    "import sys\n",
    "sys.path.append('Bin/')\n",
    "import Lib\n",
    "import re\n",
    "from urllib import parse\n",
    "from googletrans import Translator\n",
    "\n",
    "translator = Translator()\n",
    "libray = Lib.CppAssignment()\n",
    "news = libray.Newspaper()\n",
    "\n",
    "def k2u(text):\n",
    "    url = text.replace('/', '|')\n",
    "    print(url)\n",
    "    url = parse.urlparse(f'http://www.exeam.org?examParam1=value1&examParam2={text}') \n",
    "    query = parse.parse_qs(url.query)\n",
    "    data = parse.urlencode(query,  doseq=True)\n",
    "    encording = data.replace('examParam1=value1&examParam2=', '')\n",
    "    return encording\n",
    "\n",
    "def cleanText(readData):\n",
    " \n",
    "    #텍스트에 포함되어 있는 특수 문자 제거\n",
    " \n",
    "    text = re.sub(\"[-=+,#/\\?:^$.@*\\\"※~&%ㆍ!』\\\\‘|\\(\\)\\[\\]\\<\\>`\\'…》]\", '', readData)\n",
    " \n",
    "    return text"
   ]
  },
  {
   "cell_type": "code",
   "execution_count": null,
   "metadata": {},
   "outputs": [
    {
     "name": "stdout",
     "output_type": "stream",
     "text": [
      " * Serving Flask app \"__main__\" (lazy loading)\n",
      " * Environment: production\n",
      "   WARNING: This is a development server. Do not use it in a production deployment.\n",
      "   Use a production WSGI server instead.\n",
      " * Debug mode: off\n"
     ]
    },
    {
     "name": "stderr",
     "output_type": "stream",
     "text": [
      " * Running on http://127.0.0.1:5000/ (Press CTRL+C to quit)\n",
      "127.0.0.1 - - [08/Dec/2019 04:14:32] \"\u001b[37mGET / HTTP/1.1\u001b[0m\" 200 -\n",
      "127.0.0.1 - - [08/Dec/2019 04:14:32] \"\u001b[33mGET /favicon.ico HTTP/1.1\u001b[0m\" 404 -\n"
     ]
    },
    {
     "name": "stdout",
     "output_type": "stream",
     "text": [
      "URL : http://www.cplusplus.com/reference/string/string/length/\n",
      "SUMM : Return length of string\n",
      "SOURCE : en\n",
      "[use google translator]\n",
      "ori : Return length of string\n",
      "tra : 문자열의 반환 길이\n"
     ]
    },
    {
     "name": "stderr",
     "output_type": "stream",
     "text": [
      "127.0.0.1 - - [08/Dec/2019 04:19:31] \"\u001b[37mGET /input/http%3A%7C%7Cwww.cplusplus.com%7Creference%7Cstring%7Cstring%7Clength%7C HTTP/1.1\u001b[0m\" 200 -\n"
     ]
    },
    {
     "name": "stdout",
     "output_type": "stream",
     "text": [
      "\n",
      "총 점수 :  0.0\n",
      "0 문자 열의 반환 길이\n",
      "URL : https://news.naver.com/main/read.nhn?mode=LSD&mid=shm&sid1=100&oid=001&aid=0011261704\n"
     ]
    },
    {
     "name": "stderr",
     "output_type": "stream",
     "text": [
      "Building prefix dict from D:\\anaconda\\envs\\obj\\lib\\site-packages\\jieba\\dict.txt ...\n",
      "Dumping model to file cache C:\\Users\\ADMINI~1\\AppData\\Local\\Temp\\jieba.cache\n",
      "Loading model cost 1.2499995231628418 seconds.\n",
      "Prefix dict has been built succesfully.\n",
      "127.0.0.1 - - [08/Dec/2019 04:20:23] \"\u001b[37mGET /input/https%3A%7C%7Cnews.naver.com%7Cmain%7Cread.nhn%3Fmode%3DLSD&mid=shm&sid1=100&oid=001&aid=0011261704 HTTP/1.1\u001b[0m\" 200 -\n"
     ]
    },
    {
     "name": "stdout",
     "output_type": "stream",
     "text": [
      "SUMM : \n",
      "URL : https://news.naver.com/main/ranking/read.nhn?mid=etc&sid1=111&rankingType=popular_day&oid=009&aid=0004478011&date=20191207&type=1&rankingSeq=6&rankingSectionId=100\n",
      "SUMM : 지난 4월 예천진호국제양궁장에서 도쿄올림픽 대비 전지훈련을 마치고 돌아간 중국 국가대표 양\n",
      "SOURCE : ko\n"
     ]
    },
    {
     "name": "stderr",
     "output_type": "stream",
     "text": [
      "127.0.0.1 - - [08/Dec/2019 04:20:57] \"\u001b[37mGET /input/https%3A%7C%7Cnews.naver.com%7Cmain%7Cranking%7Cread.nhn%3Fmid%3Detc&sid1=111&rankingType=popular_day&oid=009&aid=0004478011&date=20191207&type=1&rankingSeq=6&rankingSectionId=100 HTTP/1.1\u001b[0m\" 200 -\n"
     ]
    },
    {
     "name": "stdout",
     "output_type": "stream",
     "text": [
      "\n",
      "총 점수 :  -99\n",
      "-100.0 지난 4월 예 천진 호 국제 양 궁장에서 도쿄 올림픽 대비 전지훈련을 마치고 돌아간 중국 국가 대표 양궁 선수단이 좋은 예다.\n",
      "100.0 이는 32년 전인 1988년 서울 올림픽을 개최한 우리와 일본의 상황이 역전된 것으로, 당시 36개국 1600여명 규모의 서울 올림픽 출전 선수들 가운데 10% 가 넘는 선수들이 일본에서 전지훈련을 마치고 서울로 들어왔다.\n",
      "100.0 싱 가 포 르 사격 대표팀은 도쿄 올림픽을 앞두고 또다시 인천시를 찾아서 훈련을 할 예정이며, 6개국의 태권도 전지훈련 단도 인천을 찾아 현지 적응훈련에 돌입할 계획인 것으로 알려 졌다.\n",
      "100.0 인천시는 인천시 체육회와 함께 도쿄 올림픽을 대비한 해외 국가 대표팀의 최적 전지훈련 장소로 인천 아시 아드 주경기 장과 박 태환 수영장, 강화도 고인돌 체육관 등 지역의 대표적인 20개 안팎의 체육시설을 인천의 주요 관광지와 연계한 홍보를 진행하고 있다.\n",
      "-99.97881552553736 제주도는 스위스 철인 3 종( 트라이 애슬 론) 국가 대표팀이 2020 도쿄 올림픽에 앞서 내년 7월 서귀포에 베이스 캠프를 차리기로 결정했다고\n",
      "0 발표했다.\n",
      "100.0 제주도는 도쿄 올림픽을 계기로 현재 서귀포 지역에 조성한 스포츠 인프라를 적극적으로 활용해 수영, 축구, 육상, 철인 3 종 종목 국가 대표팀 전지훈련 유치에 적극 나설 계획이다.\n",
      "-100.0 부산시도 지난달 도쿄 올림픽 참가국들의 전지훈련 팀 유치를 위해 본격적인 행보에 나섰다.\n",
      "-100.0 전지훈련 유치 홍보 홈페이지를 한국어· 영어 두 가지 버전으로 제작해 서비스를 시작했으며, 지난달 15일에는 부산 대병원 등 13개 지역병원들과 전지훈련 팀 유치 및 의료 편의 향상을 위해 유기적으로 협조한다는 내용의 업무 협약 식도 체결했다.\n",
      "-100.0 이와 함께 삼척( 핸드볼) 과 진주( 배드민턴), 삼천포( 농구) 등지도 지역별 특화된 종목의 각국 올림픽 대표팀 전지훈련 지 유치를 위해 팔을 걷어 부쳤다.\n",
      "100.0 한 지자체 관계자는 \" 전지훈련 지 유치 자체가 엄청난 수익을 올리는 부가가치사업은 아니지만, 전 세계에 지역을 알리는 좋은 기회가 될 수 있다\" 면서 \" 경기 침체의 골이 깊은 지역경제에 활기를 불어 넣는 계기가 될 수 있을 것으로 확신한다\" 고 말했다.\n",
      "-99.9798925491632 [ 디지털 뉴스 국][ⓒ 매일 경제 & mk.co .kr, 무단 전재 및 재배포 금지]\n"
     ]
    },
    {
     "name": "stderr",
     "output_type": "stream",
     "text": [
      "127.0.0.1 - - [08/Dec/2019 04:39:13] \"\u001b[37mGET / HTTP/1.1\u001b[0m\" 200 -\n",
      "127.0.0.1 - - [08/Dec/2019 04:46:49] \"\u001b[37mGET / HTTP/1.1\u001b[0m\" 200 -\n",
      "127.0.0.1 - - [08/Dec/2019 04:47:45] \"\u001b[37mGET / HTTP/1.1\u001b[0m\" 200 -\n",
      "127.0.0.1 - - [08/Dec/2019 04:47:56] \"\u001b[37mGET / HTTP/1.1\u001b[0m\" 200 -\n",
      "127.0.0.1 - - [08/Dec/2019 04:47:57] \"\u001b[33mGET /favicon.ico HTTP/1.1\u001b[0m\" 404 -\n",
      "127.0.0.1 - - [08/Dec/2019 04:48:41] \"\u001b[37mGET / HTTP/1.1\u001b[0m\" 200 -\n",
      "127.0.0.1 - - [08/Dec/2019 04:48:59] \"\u001b[37mGET / HTTP/1.1\u001b[0m\" 200 -\n",
      "127.0.0.1 - - [08/Dec/2019 04:49:09] \"\u001b[37mGET / HTTP/1.1\u001b[0m\" 200 -\n"
     ]
    },
    {
     "name": "stdout",
     "output_type": "stream",
     "text": [
      "URL : https://news.naver.com/main/ranking/read.nhn?mid=etc&sid1=111&rankingType=popular_day&oid=020&aid=0003257461&date=20191207&type=1&rankingSeq=7&rankingSectionId=100\n",
      "SUMM : 자유한국당 나경원 원내대표가 6일 국회에서 동아일보와 원내대표로서의 마지막 고별 인터뷰를 \n",
      "SOURCE : ko\n"
     ]
    },
    {
     "name": "stderr",
     "output_type": "stream",
     "text": [
      "127.0.0.1 - - [08/Dec/2019 04:49:23] \"\u001b[37mGET /input/https%3A%7C%7Cnews.naver.com%7Cmain%7Cranking%7Cread.nhn%3Fmid%3Detc&sid1=111&rankingType=popular_day&oid=020&aid=0003257461&date=20191207&type=1&rankingSeq=7&rankingSectionId=100 HTTP/1.1\u001b[0m\" 200 -\n"
     ]
    },
    {
     "name": "stdout",
     "output_type": "stream",
     "text": [
      "\n",
      "총 점수 :  477\n",
      "100.0 자유 한국 당 나 경원 원내 대표가 6일 국회에서 동아 일보와 원내 대표로서의 마지막 고별 인터뷰를 하고 있다.\n",
      "100.0 안 철 민 기자 acm08 @donga .com 자유 한국 당 나 경원 원내 대표가 6일 국회에서 동아 일보와 원내 대표로서의 마지막 고별 인터뷰를 하고 있다.\n",
      "99.99994039535522 “ 더 불어 민주당이 야당에 너무 내놓은 게 없었지만 ( 여 당과의 협상에서) 그렇게 못 받아 오진 않았다.\n",
      "99.90569949150085 그야말로 크고 작은 전투가 매일 벌어진 1년이었다.\n",
      "100.0 ” 자유 한국 당 나 경원 원내 대표는 6일 오후 국회에서 가진 동아 일보와의 인터뷰에서 1년 임기를 마치는 소회를 이같이 밝혔다.\n",
      "-99.99822531081008 솔직히 민주당은 야당에 너무 내놓은 게 없다.\n",
      "98.84529709815979 그럼에도 ‘ 야당답다’ 는 자리매김을 확실히 한 1년이었다고\n",
      "0 자평한다.\n",
      "-100.0 ”“ 당의 미래를 위해 내 결단으로 ( 최종적으로) 그만둔 것이다.\n",
      "-100.0 패스트 트랙을 태우려면 재적 인원 5분의 3이 동의해야 하는데, 이번에 여당이 30명만 동의하면 되는 수정안을 낸다고 하면 또 불법을 저지르는 것이다.\n",
      "93.08005571365356 소홀했던 지역구를 밑바닥부터 다시 제대로 챙기려고 한다.\n",
      "85.46718955039978 ”“ 공천에서 몇 %를 물갈이했다는 게 중요한 게 아니라 핵심은 ‘ 희생’ 이 있어야 한다는 것이다.\n"
     ]
    },
    {
     "name": "stderr",
     "output_type": "stream",
     "text": [
      "127.0.0.1 - - [08/Dec/2019 04:58:23] \"\u001b[37mGET / HTTP/1.1\u001b[0m\" 200 -\n"
     ]
    },
    {
     "name": "stdout",
     "output_type": "stream",
     "text": [
      "URL : https://news.v.daum.net/v/20191207201008711\n",
      "SUMM : 도쿄에서 고현승 특파원이 보도합니다.일본군과 정부가 위안부를 직접 관리,운영한 사실은 이미\n",
      "SOURCE : ko\n"
     ]
    },
    {
     "name": "stderr",
     "output_type": "stream",
     "text": [
      "127.0.0.1 - - [08/Dec/2019 04:58:52] \"\u001b[37mGET /input/https%3A%7C%7Cnews.v.daum.net%7Cv%7C20191207201008711 HTTP/1.1\u001b[0m\" 200 -\n"
     ]
    },
    {
     "name": "stdout",
     "output_type": "stream",
     "text": [
      "\n",
      "총 점수 :  -199\n",
      "-99.96874530042987 도쿄에서 고현 승 특파원이 보도합니다.\n",
      "100.0 일본군과 정부가 위안부를 직접 관리, 운영한 사실은 이미 여러 증거와 증언을 통해 확인됐습니다.2014\n",
      "-100.0 년에는 미국 문서기록 청이 비밀 해제한 문서에서 일본군이 만주와 동남아에서 종군 위안부를 체계적으로 관리했다는 일본군 포로의 진술이 공개됐습니다.2013\n",
      "-99.999996241786 년에는 일본군 위생병의 증언이 MBC 취재로 확인됐습니다.\n"
     ]
    },
    {
     "name": "stderr",
     "output_type": "stream",
     "text": [
      "127.0.0.1 - - [08/Dec/2019 05:31:25] \"\u001b[37mGET / HTTP/1.1\u001b[0m\" 200 -\n"
     ]
    },
    {
     "name": "stdout",
     "output_type": "stream",
     "text": [
      "URL : https://www.bbc.com/news/world-asia-india-50697139\n",
      "SUMM : Five men, including the alleged rapists, have been\n",
      "SOURCE : en\n",
      "[use google translator]\n",
      "ori : Five men, including the alleged rapists, have been\n",
      "tra : 주장 강간범을 포함하여 다섯 사람은, 인도 경찰 say.Rape과 여성에 대한 성폭력은 수\n"
     ]
    },
    {
     "name": "stderr",
     "output_type": "stream",
     "text": [
      "127.0.0.1 - - [08/Dec/2019 05:31:36] \"\u001b[37mGET /input/https%3A%7C%7Cwww.bbc.com%7Cnews%7Cworld-asia-india-50697139 HTTP/1.1\u001b[0m\" 200 -\n"
     ]
    },
    {
     "name": "stdout",
     "output_type": "stream",
     "text": [
      "\n",
      "총 점수 :  -49.8\n",
      "-100.0 주장 강간범을 포함하여 다섯 사람은, 인도 경찰 say.Rape 과 여성에 대한 성폭력은 수도 델 리에서 버스에서 젊은 여자의 12 월 2012 년 집단 강간과 살인 이후 인도의 초점이 되었습니다\n",
      "0 체포되었다.\n",
      "-99.983857384359 별도로, 금요일에, 인도 경찰은 강간과 하이 데 라 바 드의 남부 도시 지난 주에 젊은 여성 수의사를 살해 한 혐의 죽은 네 사람을 쐈다.\n"
     ]
    }
   ],
   "source": [
    "from flask import Flask\n",
    "import re\n",
    "\n",
    "app = Flask(__name__)\n",
    "\n",
    "\n",
    "@app.route('/')\n",
    "def hello_world():\n",
    "    return 'Hello, World!'\n",
    "\n",
    "\n",
    "@app.route('/input/<data>')  # URL뒤에 <>을 이용해 가변 경로를 적는다\n",
    "def hello_user(data):\n",
    "    data = data.replace('%3A', ':')\n",
    "    #data = data.replace('%3F', '?')\n",
    "    url = data.replace('|', '/')\n",
    "    print(\"URL :\", url)\n",
    "    try:\n",
    "        data = news.Newspaper(url=url, language=\"ko\")\n",
    "        if len(data) == 0:\n",
    "            data = news.Newspaper(url=url, language=\"en\")\n",
    "            if len(data) == 0:\n",
    "                data = news.Newspaper(url=url, language=\"ja\")\n",
    "                if len(data) == 0:\n",
    "                    data = news.Newspaper(url=url, language=\"zh\")\n",
    "                    print(\"SUMM :\",data[0:50])\n",
    "                    getSource = data[0:50]\n",
    "                    source = libray.Papago(text=getSource).GetLangage()\n",
    "                    print(\"SOURCE :\", source)\n",
    "                else:\n",
    "                    print(\"SUMM :\",data[0:50])\n",
    "                    getSource = data[0:50]\n",
    "                    source = libray.Papago(text=getSource).GetLangage()\n",
    "                    print(\"SOURCE :\", source)\n",
    "            else:\n",
    "                print(\"SUMM :\",data[0:50])\n",
    "                getSource = data[0:50]\n",
    "                source = libray.Papago(text=getSource).GetLangage()\n",
    "                print(\"SOURCE :\", source)\n",
    "        else:\n",
    "            print(\"SUMM :\",data[0:50])\n",
    "            getSource = data[0:50]\n",
    "            source = libray.Papago(text=getSource).GetLangage()\n",
    "            print(\"SOURCE :\", source)\n",
    "    except:\n",
    "        return f\"[ERROR] CANT SUMMARY PLEASE CHECK THIS PAGE : {url}\"\n",
    "    \n",
    "    \n",
    "    try:\n",
    "        if source != 'ko':\n",
    "            print(\"[use google translator]\")\n",
    "            text = translator.translate(data, dest='ko').text\n",
    "            print(\"ori :\", data[0:50])\n",
    "            print(\"tra :\", text[0:50])\n",
    "            sentence_data = libray.KoNLPy(text).sentence()\n",
    "            data_pn_score = []\n",
    "            obj = [0]\n",
    "            for i in range(len(sentence_data)):\n",
    "                if len(sentence_data[i]) < 21:\n",
    "                    score = 0\n",
    "                    tf = 0\n",
    "                else:\n",
    "                    _, score, tf = libray.model().text(sentence_data[i])\n",
    "                    data_pn_score.append(libray.model().text(sentence_data[i])[1:])\n",
    "                    #tf == 1 부정\n",
    "\n",
    "                if tf == 1:\n",
    "                    obj.append(-score)\n",
    "                else:\n",
    "                    obj.append(score)\n",
    "\n",
    "            print(\"\\n총 점수 : \",round(int(sum(obj)) / len(obj), 1))\n",
    "\n",
    "            for i in range(len(sentence_data)):\n",
    "                print(obj[i+1], sentence_data[i])\n",
    "\n",
    "            if int(sum(obj)) < 0:\n",
    "                tf = \"Negative\"\n",
    "            elif(int(sum(obj)) == 0):\n",
    "                tf = \"neutral\"\n",
    "            else:\n",
    "                tf = \"Positive\"\n",
    "\n",
    "\n",
    "            a = f\"\"\"[{str(tf)} : {str(round(int(sum(obj)) / len(obj), 1))}] ************** {str(text)}\"\"\"\n",
    "            return a\n",
    "\n",
    "        else:\n",
    "            sentence_data = libray.KoNLPy(data).sentence()\n",
    "            data_pn_score = []\n",
    "            obj = [0]\n",
    "            for i in range(len(sentence_data)):\n",
    "                if len(sentence_data[i]) < 21:\n",
    "                    score = 0\n",
    "                    tf = 0\n",
    "                else:\n",
    "                    _, score, tf = libray.model().text(sentence_data[i])\n",
    "                    data_pn_score.append(libray.model().text(sentence_data[i])[1:])\n",
    "                    #tf == 1 부정\n",
    "                if tf == 1:\n",
    "                    obj.append(-score)\n",
    "                else:\n",
    "                    obj.append(score)\n",
    "            print(\"\\n총 점수 : \",int(sum(obj)))\n",
    "\n",
    "            for i in range(len(sentence_data)):\n",
    "                print(obj[i+1], sentence_data[i])\n",
    "\n",
    "\n",
    "            if int(sum(obj)) < 0:\n",
    "                tf = \"Negative\"\n",
    "            elif(int(sum(obj)) == 0):\n",
    "                tf = \"neutral\"\n",
    "            else:\n",
    "                tf = \"Positive\"\n",
    "\n",
    "\n",
    "            a = f\"\"\"[{str(tf)} : {str(round(int(sum(obj)) / len(obj), 1))}] ************** {str(data)}\"\"\"\n",
    "            return a\n",
    "    except:\n",
    "        return \"ERROR\"\n",
    "    \n",
    "if __name__ == \"__main__\":\n",
    "    app.run()\n"
   ]
  }
 ],
 "metadata": {
  "kernelspec": {
   "display_name": "Python 3",
   "language": "python",
   "name": "python3"
  },
  "language_info": {
   "codemirror_mode": {
    "name": "ipython",
    "version": 3
   },
   "file_extension": ".py",
   "mimetype": "text/x-python",
   "name": "python",
   "nbconvert_exporter": "python",
   "pygments_lexer": "ipython3",
   "version": "3.6.9"
  }
 },
 "nbformat": 4,
 "nbformat_minor": 2
}

{
 "cells": [
  {
   "cell_type": "code",
   "execution_count": 1,
   "metadata": {},
   "outputs": [],
   "source": [
    "from urllib import parse"
   ]
  },
  {
   "cell_type": "code",
   "execution_count": 2,
   "metadata": {},
   "outputs": [],
   "source": [
    "def k2u(text):\n",
    "    url = text.replace('/', '|')\n",
    "    url = parse.urlparse(f'http://www.exeam.org?examParam1=value1&examParam2={url}') \n",
    "    query = parse.parse_qs(url.query)\n",
    "    data = parse.urlencode(query,  doseq=True)\n",
    "    encording = data.replace('examParam1=value1&examParam2=', '')\n",
    "    print(encording)"
   ]
  },
  {
   "cell_type": "code",
   "execution_count": 3,
   "metadata": {},
   "outputs": [
    {
     "name": "stdout",
     "output_type": "stream",
     "text": [
      "http%3A%7C%7Cwww.naver.com%7C\n"
     ]
    }
   ],
   "source": [
    "k2u(\"http://www.naver.com/\")"
   ]
  },
  {
   "cell_type": "code",
   "execution_count": null,
   "metadata": {},
   "outputs": [],
   "source": []
  }
 ],
 "metadata": {
  "kernelspec": {
   "display_name": "Python 3",
   "language": "python",
   "name": "python3"
  },
  "language_info": {
   "codemirror_mode": {
    "name": "ipython",
    "version": 3
   },
   "file_extension": ".py",
   "mimetype": "text/x-python",
   "name": "python",
   "nbconvert_exporter": "python",
   "pygments_lexer": "ipython3",
   "version": "3.6.9"
  }
 },
 "nbformat": 4,
 "nbformat_minor": 2
}
